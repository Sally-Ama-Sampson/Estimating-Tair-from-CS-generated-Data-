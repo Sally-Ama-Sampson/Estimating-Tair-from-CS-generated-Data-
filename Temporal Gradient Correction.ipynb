{
  "cells": [
    {
      "cell_type": "markdown",
      "metadata": {
        "id": "view-in-github",
        "colab_type": "text"
      },
      "source": [
        "<a href=\"https://colab.research.google.com/github/Sally-Ama-Sampson/Estimating-Tair-from-CS-generated-Data-/blob/main/Temporal%20Gradient%20Correction.ipynb\" target=\"_parent\"><img src=\"https://colab.research.google.com/assets/colab-badge.svg\" alt=\"Open In Colab\"/></a>"
      ]
    },
    {
      "cell_type": "markdown",
      "id": "981205a5-b4b6-4fc9-825f-30b615f4bbc3",
      "metadata": {
        "id": "981205a5-b4b6-4fc9-825f-30b615f4bbc3"
      },
      "source": [
        "## Temporal gradient of near surface air temperature"
      ]
    },
    {
      "cell_type": "markdown",
      "id": "896f9341-9118-4583-b6c7-398cc5c94e40",
      "metadata": {
        "tags": [],
        "id": "896f9341-9118-4583-b6c7-398cc5c94e40"
      },
      "source": [
        "### 1 Data preprocessing to extract time and temperature recordings"
      ]
    },
    {
      "cell_type": "code",
      "execution_count": null,
      "id": "23b3c4e4-fc26-46a9-9ab4-3c4bb915bc5d",
      "metadata": {
        "id": "23b3c4e4-fc26-46a9-9ab4-3c4bb915bc5d"
      },
      "outputs": [],
      "source": [
        "import numpy as np\n",
        "import pandas as pd\n",
        "import geopandas as gpd\n",
        "import random\n",
        "import time\n",
        "import math\n",
        "import sys\n",
        "import matplotlib.pyplot as plt\n",
        "import os"
      ]
    },
    {
      "cell_type": "code",
      "execution_count": null,
      "id": "d5ef15a4-f124-4e94-9484-138c278c9a1a",
      "metadata": {
        "id": "d5ef15a4-f124-4e94-9484-138c278c9a1a"
      },
      "outputs": [],
      "source": [
        "timeseries='kunMUK.csv'\n",
        "Kundf = pd.read_csv(timeseries, sep=';')\n",
        "Kundf[\"Temp ext (C)\"] = Kundf[\"Temp ext (C)\"].str.replace(',', '.').astype(float)"
      ]
    },
    {
      "cell_type": "code",
      "execution_count": null,
      "id": "2b54df76-d042-49e1-8457-0e49a7892093",
      "metadata": {
        "id": "2b54df76-d042-49e1-8457-0e49a7892093"
      },
      "outputs": [],
      "source": [
        "Kundf['time'] = Kundf.Datetime.str[11:]\n",
        "Kundf['time'] = pd.to_datetime(Kundf['time'])\n",
        "Kundf"
      ]
    },
    {
      "cell_type": "code",
      "execution_count": null,
      "id": "a66f07de-0301-4afd-b7f6-caf0f02b739a",
      "metadata": {
        "id": "a66f07de-0301-4afd-b7f6-caf0f02b739a"
      },
      "outputs": [],
      "source": [
        "# Considering only timeperiod of transect\n",
        "Kundf = Kundf[((Kundf['time'].dt.hour == 15) & (Kundf['time'].dt.minute >= 10)) |\n",
        "              ((Kundf['time'].dt.hour == 16) & (Kundf['time'].dt.minute <= 50))]\n"
      ]
    },
    {
      "cell_type": "code",
      "execution_count": null,
      "id": "1aa09444-308f-4f17-9e22-9ed945938e1a",
      "metadata": {
        "id": "1aa09444-308f-4f17-9e22-9ed945938e1a"
      },
      "outputs": [],
      "source": [
        "Kundf= Kundf.sort_values(by='time')\n",
        "Kundf= Kundf.reset_index(drop=True)\n",
        "ax1 = Kundf.plot.scatter(x='time',\n",
        "                      y='Temp ext (C)')"
      ]
    },
    {
      "cell_type": "code",
      "execution_count": null,
      "id": "85813cc1-8d1b-4fe4-8aab-a21dab26c000",
      "metadata": {
        "id": "85813cc1-8d1b-4fe4-8aab-a21dab26c000"
      },
      "outputs": [],
      "source": [
        "Kundf['TimeSecs'] = Kundf['time'].dt.hour * 3600  + Kundf['time'].dt.minute* 60  + Kundf['time'].dt.second\n",
        "Kundf.rename(columns={'Temp ext (C)': 'Temperature°C'}, inplace=True)\n",
        "Kundf.drop(columns=['Heat Index (C)', 'Humidity ext (%)', 'Unnamed: 6'], inplace=True)\n",
        "Kundf"
      ]
    },
    {
      "cell_type": "code",
      "execution_count": null,
      "id": "69295d6e-fdc2-4a60-a488-07350fd9f55c",
      "metadata": {
        "id": "69295d6e-fdc2-4a60-a488-07350fd9f55c"
      },
      "outputs": [],
      "source": [
        "Kundf.to_csv('KUNMUKXTRA.csv' , index = False)"
      ]
    },
    {
      "cell_type": "markdown",
      "id": "82b462fa-75d5-4307-9cca-1061936a87d8",
      "metadata": {
        "id": "82b462fa-75d5-4307-9cca-1061936a87d8"
      },
      "source": [
        "##  2 Compare Kunak (KUN) Trend with all Fixed Kestrels (KES)"
      ]
    },
    {
      "cell_type": "code",
      "execution_count": null,
      "id": "5df963c4-7f5a-46b0-bdef-76a0196abf65",
      "metadata": {
        "id": "5df963c4-7f5a-46b0-bdef-76a0196abf65"
      },
      "outputs": [],
      "source": [
        "#But before, clean the KES\n",
        "path = '/home/jovyan/Thesis /PREPROCESSING AT /Filtering and Matching/MUKURU/TEMPORAL/FixedKerstrel/FIXED_FILT/OUTLIERSclean/XTRA'\n",
        "file_names = ['11XTRACLEAN_OUT.csv', '12XTRACLEAN_OUT.csv', '13XTRACLEAN_OUT.csv', '15XTRACLEAN_OUT.csv',\n",
        "              '16XTRACLEAN_OUT.csv', '17XTRACLEAN_OUT.csv', '18XTRACLEAN_OUT.csv']\n",
        "dfs = {}\n",
        "for file_name in file_names:\n",
        "    df_name = file_name.split('.')[0] + 'df'\n",
        "    file_path = os.path.join(path, file_name)\n",
        "    dfs[df_name] = pd.read_csv(file_path)\n",
        "KUN = Kundf"
      ]
    },
    {
      "cell_type": "code",
      "execution_count": null,
      "id": "461a61a3-ca24-4c82-995a-359916548cdf",
      "metadata": {
        "id": "461a61a3-ca24-4c82-995a-359916548cdf"
      },
      "outputs": [],
      "source": [
        "for df_name, df in dfs.items():\n",
        "    df['Actual_Datetime'] = pd.to_datetime(df['Actual_Datetime'])\n",
        "    df['TimeSecs'] = df['Actual_Datetime'].dt.hour * 3600 + df['Actual_Datetime'].dt.minute* 60  + df['Actual_Datetime'].dt.second"
      ]
    },
    {
      "cell_type": "code",
      "execution_count": null,
      "id": "a85dae8a-6923-409c-8e6f-e56333729426",
      "metadata": {
        "id": "a85dae8a-6923-409c-8e6f-e56333729426"
      },
      "outputs": [],
      "source": [
        "fig, ax = plt.subplots()\n",
        "for df_name, df in dfs.items():\n",
        "    df.plot(x='TimeSecs', y='cleanTemp', ax=ax, label=df_name,color='blue')\n",
        "KUN.plot(x='TimeSecs', y='Temperature°C', ax=ax, label='KUN', color='orange')\n",
        "ax.set_xlabel('TimeSecs')\n",
        "ax.set_ylabel('Temperature (°C)')\n",
        "ax.set_title('Scatter Plot of Temperature vs. Time')\n",
        "ax.legend(fontsize=5)\n",
        "plt.show()"
      ]
    },
    {
      "cell_type": "markdown",
      "id": "e9bebb2f-c074-43d2-8174-8c3d2b485b3c",
      "metadata": {
        "id": "e9bebb2f-c074-43d2-8174-8c3d2b485b3c"
      },
      "source": [
        "# Smooth all the noise by applying moving average (smoothed at an interval of 2 mins)"
      ]
    },
    {
      "cell_type": "code",
      "execution_count": null,
      "id": "8e521c99-df07-4a33-94a4-a52f50b0b7b2",
      "metadata": {
        "id": "8e521c99-df07-4a33-94a4-a52f50b0b7b2"
      },
      "outputs": [],
      "source": [
        "smoothed_values = []\n",
        "for df_name, df in dfs.items():\n",
        "    df['Smoothed_Temp'] = df['cleanTemp'].rolling(window=12, min_periods=1).mean()\n",
        "    smoothed_values.append(df['Smoothed_Temp'])\n",
        "for df_name, smoothed_value in zip(dfs.keys(), smoothed_values):\n",
        "    plt.plot(dfs[df_name]['TimeSecs'], smoothed_value, label=f'{df_name} Smoothed')\n",
        "plt.xlabel('Time')\n",
        "plt.ylabel('Smoothed Temperature (°C)')\n",
        "plt.legend(fontsize=7)\n",
        "plt.show()\n"
      ]
    },
    {
      "cell_type": "code",
      "execution_count": null,
      "id": "ead88e05-a328-48b1-8472-914a84d20f19",
      "metadata": {
        "id": "ead88e05-a328-48b1-8472-914a84d20f19"
      },
      "outputs": [],
      "source": [
        "smoothed_df = pd.concat(smoothed_values, axis=1)\n",
        "mean_smoothed_values = smoothed_df.mean(axis=1)\n",
        "mean_smoothed_values"
      ]
    },
    {
      "cell_type": "code",
      "execution_count": null,
      "id": "a6240ba0-f6b9-42aa-ba7b-bc7c5e3b0573",
      "metadata": {
        "id": "a6240ba0-f6b9-42aa-ba7b-bc7c5e3b0573"
      },
      "outputs": [],
      "source": [
        "mean_smoothed_values = mean_smoothed_values.iloc[:len(dfs[df_name]['TimeSecs'])]\n",
        "plt.plot(dfs[df_name]['TimeSecs'], mean_smoothed_values, '--', label='Mean Smoothed Values', color='red')\n",
        "for df_name, smoothed_value in zip(dfs.keys(), smoothed_values):\n",
        "    plt.plot(dfs[df_name]['TimeSecs'], smoothed_value, label=f'{df_name} Smoothed', color='blue')\n",
        "plt.xlabel('Time')\n",
        "plt.ylabel('Smoothed Temperature (°C)')\n",
        "plt.legend(fontsize='small',prop={'size': 6})\n",
        "plt.show()\n",
        "\n",
        "\n"
      ]
    },
    {
      "cell_type": "code",
      "execution_count": null,
      "id": "f5274b94-7a25-455c-b304-2999f6d2acfb",
      "metadata": {
        "id": "f5274b94-7a25-455c-b304-2999f6d2acfb"
      },
      "outputs": [],
      "source": [
        "mean_smoothed_values = mean_smoothed_values.iloc[:len(KUN['TimeSecs'].values)]\n",
        "plt.plot(KUN['TimeSecs'].values, KUN['Temperature°C'].values, label=f'KUN' )\n",
        "plt.plot(KUN['TimeSecs'][0:], mean_smoothed_values, '--', label='Mean Smoothed Values', color = 'red')\n",
        "\n",
        "plt.xlabel('Time')\n",
        "plt.ylabel('Temperature (°C)')\n",
        "plt.legend(fontsize='small',prop={'size': 6})\n",
        "plt.show()\n",
        "\n"
      ]
    },
    {
      "cell_type": "markdown",
      "id": "36f6881d-bca4-4e0e-8581-33ad450caec0",
      "metadata": {
        "id": "36f6881d-bca4-4e0e-8581-33ad450caec0"
      },
      "source": [
        "### 2 Data fit to model timeseries of temperature recordings"
      ]
    },
    {
      "cell_type": "code",
      "execution_count": null,
      "id": "5fd123f6-f6e8-4ef6-be73-1c7297655b1a",
      "metadata": {
        "id": "5fd123f6-f6e8-4ef6-be73-1c7297655b1a"
      },
      "outputs": [],
      "source": [
        "import numpy as np\n",
        "import pandas as pd\n",
        "from sklearn.linear_model import LinearRegression\n",
        "from sklearn.preprocessing import PolynomialFeatures\n",
        "from sklearn.metrics import r2_score\n",
        "from sklearn.preprocessing import MinMaxScaler, StandardScaler"
      ]
    },
    {
      "cell_type": "code",
      "execution_count": null,
      "id": "f9c49abc-e1c0-41a1-a8b4-29bc95932b7f",
      "metadata": {
        "id": "f9c49abc-e1c0-41a1-a8b4-29bc95932b7f"
      },
      "outputs": [],
      "source": [
        "# determining best fit\n",
        "Data = Kundf['TimeSecs'].values.reshape(-1, 1)\n",
        "x = MinMaxScaler().fit_transform(Data)\n",
        "y = Kundf['Temperature°C'].values\n",
        "all_y_pred = []\n",
        "all_r2_scores = []\n",
        "for degree in range(1, 20):\n",
        "    poly_features = PolynomialFeatures(degree=degree)\n",
        "    x_poly = poly_features.fit_transform(x)\n",
        "    model = LinearRegression()\n",
        "    model.fit(x_poly, y)\n",
        "    y_pred = model.predict(x_poly)\n",
        "    r2 = r2_score(y, y_pred)\n",
        "    all_y_pred.append(y_pred)\n",
        "    all_r2_scores.append(r2)\n",
        "plt.figure(figsize=(10, 6))\n",
        "plt.scatter(x, y, color='blue', label='Original data')\n",
        "\n",
        "for degree, y_pred in zip(range(1, 20), all_y_pred):\n",
        "    plt.plot(x, y_pred, label=f'Degree {degree}, R-squared = {all_r2_scores[degree-1]:.2f}')\n",
        "\n",
        "plt.xlabel('TimeSecs')\n",
        "plt.ylabel('Temp ext (C)')\n",
        "plt.title('Polynomial Regression Fits')\n",
        "plt.legend(fontsize=7)\n",
        "plt.grid(True)\n",
        "plt.show()\n"
      ]
    },
    {
      "cell_type": "code",
      "execution_count": null,
      "id": "4c2222fd-98a0-40b7-8bb8-ad3e5cff36af",
      "metadata": {
        "id": "4c2222fd-98a0-40b7-8bb8-ad3e5cff36af",
        "outputId": "e8b43d04-c4f4-48b3-d58a-0ab42f237186"
      },
      "outputs": [
        {
          "data": {
            "text/plain": [
              "array([ 3.84525914e+08, -3.18691226e+09,  1.20065624e+10, -2.72145055e+10,\n",
              "        4.14007276e+10, -4.46551686e+10,  3.51780791e+10, -2.05493223e+10,\n",
              "        8.94853510e+09, -2.89736569e+09,  6.90434302e+08, -1.18802861e+08,\n",
              "        1.43027147e+07, -1.14445836e+06,  5.59958059e+04, -1.47590970e+03,\n",
              "        1.81676122e+01,  3.20743462e+01])"
            ]
          },
          "execution_count": 278,
          "metadata": {},
          "output_type": "execute_result"
        }
      ],
      "source": [
        "z = np.polyfit(x, y, 17)\n",
        "z"
      ]
    },
    {
      "cell_type": "code",
      "execution_count": null,
      "id": "f09c4395-aba1-46fe-9cfd-7e5cfac92b0b",
      "metadata": {
        "id": "f09c4395-aba1-46fe-9cfd-7e5cfac92b0b",
        "outputId": "60472dde-a8b0-4592-e9ff-046b1239889a"
      },
      "outputs": [
        {
          "name": "stdout",
          "output_type": "stream",
          "text": [
            "32.07434624590319\n",
            "31.805346818867356\n",
            "29.313819356886334\n"
          ]
        }
      ],
      "source": [
        "p = np.poly1d(z)\n",
        "print(p(0))\n",
        "print(p(0.5))\n",
        "print(p(1))"
      ]
    },
    {
      "cell_type": "code",
      "execution_count": null,
      "id": "49411bac-1ece-432f-a1ea-d62e5e0ef9d9",
      "metadata": {
        "id": "49411bac-1ece-432f-a1ea-d62e5e0ef9d9",
        "outputId": "4802faea-3454-47f9-d48a-011883eea208"
      },
      "outputs": [
        {
          "data": {
            "image/png": "[encoded data removed]",
            "text/plain": [
              "<Figure size 640x480 with 1 Axes>"
            ]
          },
          "metadata": {},
          "output_type": "display_data"
        }
      ],
      "source": [
        "xp = np.linspace(0,1, 7000)\n",
        "_ = plt.plot(x, y, '.', xp, p(xp), '--')\n",
        "#plt.ylim(29,33)"
      ]
    },
    {
      "cell_type": "code",
      "execution_count": null,
      "id": "831f9b63-a286-4e31-b719-2d458a7df399",
      "metadata": {
        "id": "831f9b63-a286-4e31-b719-2d458a7df399",
        "outputId": "31af4838-37dc-4721-8066-795198022365"
      },
      "outputs": [
        {
          "name": "stdout",
          "output_type": "stream",
          "text": [
            "0.9966500473602646\n"
          ]
        }
      ],
      "source": [
        "predicted_values = np.polyval(z, x)\n",
        "mean_temperature = np.mean(y)\n",
        "TSS = np.sum((y - mean_temperature) ** 2)\n",
        "RSS = np.sum((y - predicted_values) ** 2)\n",
        "R_squared = 1 - (RSS / TSS)\n",
        "print (R_squared)"
      ]
    },
    {
      "cell_type": "markdown",
      "id": "20b66328-8b07-465f-85d6-503132bf5e1d",
      "metadata": {
        "id": "20b66328-8b07-465f-85d6-503132bf5e1d"
      },
      "source": [
        "### Temporal correction using the temperature gradient model"
      ]
    },
    {
      "cell_type": "code",
      "execution_count": null,
      "id": "88fa5a33-133d-40b9-8115-1870f25b4dc3",
      "metadata": {
        "id": "88fa5a33-133d-40b9-8115-1870f25b4dc3",
        "outputId": "41bba523-3ba2-472f-8e93-88b281c3742f"
      },
      "outputs": [
        {
          "data": {
            "text/html": [
              "<div>\n",
              "<style scoped>\n",
              "    .dataframe tbody tr th:only-of-type {\n",
              "        vertical-align: middle;\n",
              "    }\n",
              "\n",
              "    .dataframe tbody tr th {\n",
              "        vertical-align: top;\n",
              "    }\n",
              "\n",
              "    .dataframe thead th {\n",
              "        text-align: right;\n",
              "    }\n",
              "</style>\n",
              "<table border=\"1\" class=\"dataframe\">\n",
              "  <thead>\n",
              "    <tr style=\"text-align: right;\">\n",
              "      <th></th>\n",
              "      <th>Latitude</th>\n",
              "      <th>Longitude</th>\n",
              "      <th>WMean_Temp</th>\n",
              "      <th>WMean_HeatInd</th>\n",
              "      <th>WMean_Dew</th>\n",
              "      <th>Relative Humidity</th>\n",
              "      <th>Actual_Datetime</th>\n",
              "      <th>Elevation</th>\n",
              "      <th>TimeSecs_y</th>\n",
              "    </tr>\n",
              "  </thead>\n",
              "  <tbody>\n",
              "    <tr>\n",
              "      <th>0</th>\n",
              "      <td>-1.318104</td>\n",
              "      <td>36.841907</td>\n",
              "      <td>28.785</td>\n",
              "      <td>26.901</td>\n",
              "      <td>8.616</td>\n",
              "      <td>28.3</td>\n",
              "      <td>2024-02-06 16:27:10</td>\n",
              "      <td>1653.12</td>\n",
              "      <td>59231</td>\n",
              "    </tr>\n",
              "    <tr>\n",
              "      <th>1</th>\n",
              "      <td>-1.318073</td>\n",
              "      <td>36.841726</td>\n",
              "      <td>28.791</td>\n",
              "      <td>27.028</td>\n",
              "      <td>9.186</td>\n",
              "      <td>29.4</td>\n",
              "      <td>2024-02-06 16:28:10</td>\n",
              "      <td>1656.49</td>\n",
              "      <td>59291</td>\n",
              "    </tr>\n",
              "    <tr>\n",
              "      <th>2</th>\n",
              "      <td>-1.318068</td>\n",
              "      <td>36.841712</td>\n",
              "      <td>28.890</td>\n",
              "      <td>27.511</td>\n",
              "      <td>10.358</td>\n",
              "      <td>31.5</td>\n",
              "      <td>2024-02-06 16:29:50</td>\n",
              "      <td>1661.78</td>\n",
              "      <td>59391</td>\n",
              "    </tr>\n",
              "    <tr>\n",
              "      <th>3</th>\n",
              "      <td>-1.318066</td>\n",
              "      <td>36.841721</td>\n",
              "      <td>29.071</td>\n",
              "      <td>27.401</td>\n",
              "      <td>9.423</td>\n",
              "      <td>29.3</td>\n",
              "      <td>2024-02-06 16:28:30</td>\n",
              "      <td>1659.37</td>\n",
              "      <td>59311</td>\n",
              "    </tr>\n",
              "    <tr>\n",
              "      <th>4</th>\n",
              "      <td>-1.318058</td>\n",
              "      <td>36.841698</td>\n",
              "      <td>28.763</td>\n",
              "      <td>27.209</td>\n",
              "      <td>9.858</td>\n",
              "      <td>30.8</td>\n",
              "      <td>2024-02-06 16:28:50</td>\n",
              "      <td>1658.41</td>\n",
              "      <td>59331</td>\n",
              "    </tr>\n",
              "    <tr>\n",
              "      <th>...</th>\n",
              "      <td>...</td>\n",
              "      <td>...</td>\n",
              "      <td>...</td>\n",
              "      <td>...</td>\n",
              "      <td>...</td>\n",
              "      <td>...</td>\n",
              "      <td>...</td>\n",
              "      <td>...</td>\n",
              "      <td>...</td>\n",
              "    </tr>\n",
              "    <tr>\n",
              "      <th>298</th>\n",
              "      <td>-1.313305</td>\n",
              "      <td>36.840307</td>\n",
              "      <td>29.099</td>\n",
              "      <td>27.489</td>\n",
              "      <td>9.285</td>\n",
              "      <td>28.9</td>\n",
              "      <td>2024-02-06 16:47:10</td>\n",
              "      <td>1668.99</td>\n",
              "      <td>60431</td>\n",
              "    </tr>\n",
              "    <tr>\n",
              "      <th>299</th>\n",
              "      <td>-1.313283</td>\n",
              "      <td>36.840303</td>\n",
              "      <td>28.352</td>\n",
              "      <td>26.490</td>\n",
              "      <td>8.736</td>\n",
              "      <td>29.2</td>\n",
              "      <td>2024-02-06 16:46:50</td>\n",
              "      <td>1668.99</td>\n",
              "      <td>60411</td>\n",
              "    </tr>\n",
              "    <tr>\n",
              "      <th>300</th>\n",
              "      <td>-1.313282</td>\n",
              "      <td>36.840333</td>\n",
              "      <td>28.166</td>\n",
              "      <td>26.352</td>\n",
              "      <td>8.764</td>\n",
              "      <td>29.4</td>\n",
              "      <td>2024-02-06 16:46:30</td>\n",
              "      <td>1667.54</td>\n",
              "      <td>60391</td>\n",
              "    </tr>\n",
              "    <tr>\n",
              "      <th>301</th>\n",
              "      <td>-1.313275</td>\n",
              "      <td>36.840319</td>\n",
              "      <td>29.440</td>\n",
              "      <td>27.912</td>\n",
              "      <td>10.067</td>\n",
              "      <td>29.9</td>\n",
              "      <td>2024-02-06 16:45:50</td>\n",
              "      <td>1662.74</td>\n",
              "      <td>60351</td>\n",
              "    </tr>\n",
              "    <tr>\n",
              "      <th>302</th>\n",
              "      <td>-1.313274</td>\n",
              "      <td>36.840318</td>\n",
              "      <td>29.241</td>\n",
              "      <td>27.889</td>\n",
              "      <td>10.813</td>\n",
              "      <td>31.9</td>\n",
              "      <td>2024-02-06 16:46:10</td>\n",
              "      <td>1664.18</td>\n",
              "      <td>60371</td>\n",
              "    </tr>\n",
              "  </tbody>\n",
              "</table>\n",
              "<p>303 rows × 9 columns</p>\n",
              "</div>"
            ],
            "text/plain": [
              "     Latitude  Longitude  WMean_Temp  WMean_HeatInd  WMean_Dew  \\\n",
              "0   -1.318104  36.841907      28.785         26.901      8.616   \n",
              "1   -1.318073  36.841726      28.791         27.028      9.186   \n",
              "2   -1.318068  36.841712      28.890         27.511     10.358   \n",
              "3   -1.318066  36.841721      29.071         27.401      9.423   \n",
              "4   -1.318058  36.841698      28.763         27.209      9.858   \n",
              "..        ...        ...         ...            ...        ...   \n",
              "298 -1.313305  36.840307      29.099         27.489      9.285   \n",
              "299 -1.313283  36.840303      28.352         26.490      8.736   \n",
              "300 -1.313282  36.840333      28.166         26.352      8.764   \n",
              "301 -1.313275  36.840319      29.440         27.912     10.067   \n",
              "302 -1.313274  36.840318      29.241         27.889     10.813   \n",
              "\n",
              "     Relative Humidity      Actual_Datetime  Elevation  TimeSecs_y  \n",
              "0                 28.3  2024-02-06 16:27:10    1653.12       59231  \n",
              "1                 29.4  2024-02-06 16:28:10    1656.49       59291  \n",
              "2                 31.5  2024-02-06 16:29:50    1661.78       59391  \n",
              "3                 29.3  2024-02-06 16:28:30    1659.37       59311  \n",
              "4                 30.8  2024-02-06 16:28:50    1658.41       59331  \n",
              "..                 ...                  ...        ...         ...  \n",
              "298               28.9  2024-02-06 16:47:10    1668.99       60431  \n",
              "299               29.2  2024-02-06 16:46:50    1668.99       60411  \n",
              "300               29.4  2024-02-06 16:46:30    1667.54       60391  \n",
              "301               29.9  2024-02-06 16:45:50    1662.74       60351  \n",
              "302               31.9  2024-02-06 16:46:10    1664.18       60371  \n",
              "\n",
              "[303 rows x 9 columns]"
            ]
          },
          "execution_count": 340,
          "metadata": {},
          "output_type": "execute_result"
        }
      ],
      "source": [
        "Dir = '/home/jovyan/Thesis /PREPROCESSING AT /Filtering and Matching/MUKURU/MERGE_FIN/XTRA'\n",
        "TRACK_name = '7XTRAMUKMERGEDFIN.csv'\n",
        "TRACK_file_path = os.path.join(Dir, TRACK_name)\n",
        "Track = pd.read_csv(TRACK_file_path)\n",
        "Track"
      ]
    },
    {
      "cell_type": "code",
      "execution_count": null,
      "id": "a03c58e8-74b1-427d-bcd7-ac1d83813b2c",
      "metadata": {
        "id": "a03c58e8-74b1-427d-bcd7-ac1d83813b2c"
      },
      "outputs": [],
      "source": [
        "def min_max_scaler(x):\n",
        "    x_min = np.min(x)\n",
        "    x_max = np.max(x)\n",
        "    scaled_x = (x - x_min) / (x_max - x_min)\n",
        "    return scaled_x\n",
        "Track['Scaled_TS'] = min_max_scaler(Track['TimeSecs_y'].values)"
      ]
    },
    {
      "cell_type": "code",
      "execution_count": null,
      "id": "5ac148c2-3cbc-4ff5-a43d-04b1a907a5c1",
      "metadata": {
        "id": "5ac148c2-3cbc-4ff5-a43d-04b1a907a5c1",
        "outputId": "414ff400-34bb-461c-a1ca-41681c2e58aa"
      },
      "outputs": [
        {
          "data": {
            "text/html": [
              "<div>\n",
              "<style scoped>\n",
              "    .dataframe tbody tr th:only-of-type {\n",
              "        vertical-align: middle;\n",
              "    }\n",
              "\n",
              "    .dataframe tbody tr th {\n",
              "        vertical-align: top;\n",
              "    }\n",
              "\n",
              "    .dataframe thead th {\n",
              "        text-align: right;\n",
              "    }\n",
              "</style>\n",
              "<table border=\"1\" class=\"dataframe\">\n",
              "  <thead>\n",
              "    <tr style=\"text-align: right;\">\n",
              "      <th></th>\n",
              "      <th>Latitude</th>\n",
              "      <th>Longitude</th>\n",
              "      <th>WMean_Temp</th>\n",
              "      <th>WMean_HeatInd</th>\n",
              "      <th>WMean_Dew</th>\n",
              "      <th>Relative Humidity</th>\n",
              "      <th>Actual_Datetime</th>\n",
              "      <th>Elevation</th>\n",
              "      <th>TimeSecs_y</th>\n",
              "      <th>Scaled_TS</th>\n",
              "      <th>temp_crt</th>\n",
              "    </tr>\n",
              "  </thead>\n",
              "  <tbody>\n",
              "    <tr>\n",
              "      <th>0</th>\n",
              "      <td>-1.318104</td>\n",
              "      <td>36.841907</td>\n",
              "      <td>28.785</td>\n",
              "      <td>26.901</td>\n",
              "      <td>8.616</td>\n",
              "      <td>28.3</td>\n",
              "      <td>2024-02-06 16:27:10</td>\n",
              "      <td>1653.12</td>\n",
              "      <td>59231</td>\n",
              "      <td>0.764901</td>\n",
              "      <td>30.483284</td>\n",
              "    </tr>\n",
              "    <tr>\n",
              "      <th>1</th>\n",
              "      <td>-1.318073</td>\n",
              "      <td>36.841726</td>\n",
              "      <td>28.791</td>\n",
              "      <td>27.028</td>\n",
              "      <td>9.186</td>\n",
              "      <td>29.4</td>\n",
              "      <td>2024-02-06 16:28:10</td>\n",
              "      <td>1656.49</td>\n",
              "      <td>59291</td>\n",
              "      <td>0.774834</td>\n",
              "      <td>30.572814</td>\n",
              "    </tr>\n",
              "    <tr>\n",
              "      <th>2</th>\n",
              "      <td>-1.318068</td>\n",
              "      <td>36.841712</td>\n",
              "      <td>28.890</td>\n",
              "      <td>27.511</td>\n",
              "      <td>10.358</td>\n",
              "      <td>31.5</td>\n",
              "      <td>2024-02-06 16:29:50</td>\n",
              "      <td>1661.78</td>\n",
              "      <td>59391</td>\n",
              "      <td>0.791391</td>\n",
              "      <td>30.803538</td>\n",
              "    </tr>\n",
              "    <tr>\n",
              "      <th>3</th>\n",
              "      <td>-1.318066</td>\n",
              "      <td>36.841721</td>\n",
              "      <td>29.071</td>\n",
              "      <td>27.401</td>\n",
              "      <td>9.423</td>\n",
              "      <td>29.3</td>\n",
              "      <td>2024-02-06 16:28:30</td>\n",
              "      <td>1659.37</td>\n",
              "      <td>59311</td>\n",
              "      <td>0.778146</td>\n",
              "      <td>30.880401</td>\n",
              "    </tr>\n",
              "    <tr>\n",
              "      <th>4</th>\n",
              "      <td>-1.318058</td>\n",
              "      <td>36.841698</td>\n",
              "      <td>28.763</td>\n",
              "      <td>27.209</td>\n",
              "      <td>9.858</td>\n",
              "      <td>30.8</td>\n",
              "      <td>2024-02-06 16:28:50</td>\n",
              "      <td>1658.41</td>\n",
              "      <td>59331</td>\n",
              "      <td>0.781457</td>\n",
              "      <td>30.599543</td>\n",
              "    </tr>\n",
              "    <tr>\n",
              "      <th>...</th>\n",
              "      <td>...</td>\n",
              "      <td>...</td>\n",
              "      <td>...</td>\n",
              "      <td>...</td>\n",
              "      <td>...</td>\n",
              "      <td>...</td>\n",
              "      <td>...</td>\n",
              "      <td>...</td>\n",
              "      <td>...</td>\n",
              "      <td>...</td>\n",
              "      <td>...</td>\n",
              "    </tr>\n",
              "    <tr>\n",
              "      <th>298</th>\n",
              "      <td>-1.313305</td>\n",
              "      <td>36.840307</td>\n",
              "      <td>29.099</td>\n",
              "      <td>27.489</td>\n",
              "      <td>9.285</td>\n",
              "      <td>28.9</td>\n",
              "      <td>2024-02-06 16:47:10</td>\n",
              "      <td>1668.99</td>\n",
              "      <td>60431</td>\n",
              "      <td>0.963576</td>\n",
              "      <td>31.638049</td>\n",
              "    </tr>\n",
              "    <tr>\n",
              "      <th>299</th>\n",
              "      <td>-1.313283</td>\n",
              "      <td>36.840303</td>\n",
              "      <td>28.352</td>\n",
              "      <td>26.490</td>\n",
              "      <td>8.736</td>\n",
              "      <td>29.2</td>\n",
              "      <td>2024-02-06 16:46:50</td>\n",
              "      <td>1668.99</td>\n",
              "      <td>60411</td>\n",
              "      <td>0.960265</td>\n",
              "      <td>30.873495</td>\n",
              "    </tr>\n",
              "    <tr>\n",
              "      <th>300</th>\n",
              "      <td>-1.313282</td>\n",
              "      <td>36.840333</td>\n",
              "      <td>28.166</td>\n",
              "      <td>26.352</td>\n",
              "      <td>8.764</td>\n",
              "      <td>29.4</td>\n",
              "      <td>2024-02-06 16:46:30</td>\n",
              "      <td>1667.54</td>\n",
              "      <td>60391</td>\n",
              "      <td>0.956954</td>\n",
              "      <td>30.674936</td>\n",
              "    </tr>\n",
              "    <tr>\n",
              "      <th>301</th>\n",
              "      <td>-1.313275</td>\n",
              "      <td>36.840319</td>\n",
              "      <td>29.440</td>\n",
              "      <td>27.912</td>\n",
              "      <td>10.067</td>\n",
              "      <td>29.9</td>\n",
              "      <td>2024-02-06 16:45:50</td>\n",
              "      <td>1662.74</td>\n",
              "      <td>60351</td>\n",
              "      <td>0.950331</td>\n",
              "      <td>31.934477</td>\n",
              "    </tr>\n",
              "    <tr>\n",
              "      <th>302</th>\n",
              "      <td>-1.313274</td>\n",
              "      <td>36.840318</td>\n",
              "      <td>29.241</td>\n",
              "      <td>27.889</td>\n",
              "      <td>10.813</td>\n",
              "      <td>31.9</td>\n",
              "      <td>2024-02-06 16:46:10</td>\n",
              "      <td>1664.18</td>\n",
              "      <td>60371</td>\n",
              "      <td>0.953642</td>\n",
              "      <td>31.741301</td>\n",
              "    </tr>\n",
              "  </tbody>\n",
              "</table>\n",
              "<p>303 rows × 11 columns</p>\n",
              "</div>"
            ],
            "text/plain": [
              "     Latitude  Longitude  WMean_Temp  WMean_HeatInd  WMean_Dew  \\\n",
              "0   -1.318104  36.841907      28.785         26.901      8.616   \n",
              "1   -1.318073  36.841726      28.791         27.028      9.186   \n",
              "2   -1.318068  36.841712      28.890         27.511     10.358   \n",
              "3   -1.318066  36.841721      29.071         27.401      9.423   \n",
              "4   -1.318058  36.841698      28.763         27.209      9.858   \n",
              "..        ...        ...         ...            ...        ...   \n",
              "298 -1.313305  36.840307      29.099         27.489      9.285   \n",
              "299 -1.313283  36.840303      28.352         26.490      8.736   \n",
              "300 -1.313282  36.840333      28.166         26.352      8.764   \n",
              "301 -1.313275  36.840319      29.440         27.912     10.067   \n",
              "302 -1.313274  36.840318      29.241         27.889     10.813   \n",
              "\n",
              "     Relative Humidity      Actual_Datetime  Elevation  TimeSecs_y  Scaled_TS  \\\n",
              "0                 28.3  2024-02-06 16:27:10    1653.12       59231   0.764901   \n",
              "1                 29.4  2024-02-06 16:28:10    1656.49       59291   0.774834   \n",
              "2                 31.5  2024-02-06 16:29:50    1661.78       59391   0.791391   \n",
              "3                 29.3  2024-02-06 16:28:30    1659.37       59311   0.778146   \n",
              "4                 30.8  2024-02-06 16:28:50    1658.41       59331   0.781457   \n",
              "..                 ...                  ...        ...         ...        ...   \n",
              "298               28.9  2024-02-06 16:47:10    1668.99       60431   0.963576   \n",
              "299               29.2  2024-02-06 16:46:50    1668.99       60411   0.960265   \n",
              "300               29.4  2024-02-06 16:46:30    1667.54       60391   0.956954   \n",
              "301               29.9  2024-02-06 16:45:50    1662.74       60351   0.950331   \n",
              "302               31.9  2024-02-06 16:46:10    1664.18       60371   0.953642   \n",
              "\n",
              "      temp_crt  \n",
              "0    30.483284  \n",
              "1    30.572814  \n",
              "2    30.803538  \n",
              "3    30.880401  \n",
              "4    30.599543  \n",
              "..         ...  \n",
              "298  31.638049  \n",
              "299  30.873495  \n",
              "300  30.674936  \n",
              "301  31.934477  \n",
              "302  31.741301  \n",
              "\n",
              "[303 rows x 11 columns]"
            ]
          },
          "execution_count": 343,
          "metadata": {},
          "output_type": "execute_result"
        }
      ],
      "source": [
        "## Apply to correct decline component from all data\n",
        "Track['temp_crt'] = Track.apply(lambda row: p(0.0)-p(row.Scaled_TS)+row.WMean_Temp, axis=1)\n",
        "Track"
      ]
    },
    {
      "cell_type": "code",
      "execution_count": null,
      "id": "15c4fea0-d73e-4a37-91a1-ac538dcd0c52",
      "metadata": {
        "id": "15c4fea0-d73e-4a37-91a1-ac538dcd0c52",
        "outputId": "8f8d1723-9665-451b-82c0-8e759becaac4"
      },
      "outputs": [
        {
          "data": {
            "text/html": [
              "<div>\n",
              "<style scoped>\n",
              "    .dataframe tbody tr th:only-of-type {\n",
              "        vertical-align: middle;\n",
              "    }\n",
              "\n",
              "    .dataframe tbody tr th {\n",
              "        vertical-align: top;\n",
              "    }\n",
              "\n",
              "    .dataframe thead th {\n",
              "        text-align: right;\n",
              "    }\n",
              "</style>\n",
              "<table border=\"1\" class=\"dataframe\">\n",
              "  <thead>\n",
              "    <tr style=\"text-align: right;\">\n",
              "      <th></th>\n",
              "      <th>Latitude</th>\n",
              "      <th>Longitude</th>\n",
              "      <th>WMean_Temp</th>\n",
              "      <th>WMean_HeatInd</th>\n",
              "      <th>WMean_Dew</th>\n",
              "      <th>Relative Humidity</th>\n",
              "      <th>Actual_Datetime</th>\n",
              "      <th>Elevation</th>\n",
              "      <th>TimeSecs_y</th>\n",
              "      <th>Scaled_TS</th>\n",
              "      <th>temp_crt</th>\n",
              "      <th>geometry</th>\n",
              "    </tr>\n",
              "  </thead>\n",
              "  <tbody>\n",
              "    <tr>\n",
              "      <th>0</th>\n",
              "      <td>-1.318104</td>\n",
              "      <td>36.841907</td>\n",
              "      <td>28.785</td>\n",
              "      <td>26.901</td>\n",
              "      <td>8.616</td>\n",
              "      <td>28.3</td>\n",
              "      <td>2024-02-06 16:27:10</td>\n",
              "      <td>1653.12</td>\n",
              "      <td>59231</td>\n",
              "      <td>0.764901</td>\n",
              "      <td>30.483284</td>\n",
              "      <td>POINT (36.84191 -1.31810)</td>\n",
              "    </tr>\n",
              "    <tr>\n",
              "      <th>1</th>\n",
              "      <td>-1.318073</td>\n",
              "      <td>36.841726</td>\n",
              "      <td>28.791</td>\n",
              "      <td>27.028</td>\n",
              "      <td>9.186</td>\n",
              "      <td>29.4</td>\n",
              "      <td>2024-02-06 16:28:10</td>\n",
              "      <td>1656.49</td>\n",
              "      <td>59291</td>\n",
              "      <td>0.774834</td>\n",
              "      <td>30.572814</td>\n",
              "      <td>POINT (36.84173 -1.31807)</td>\n",
              "    </tr>\n",
              "    <tr>\n",
              "      <th>2</th>\n",
              "      <td>-1.318068</td>\n",
              "      <td>36.841712</td>\n",
              "      <td>28.890</td>\n",
              "      <td>27.511</td>\n",
              "      <td>10.358</td>\n",
              "      <td>31.5</td>\n",
              "      <td>2024-02-06 16:29:50</td>\n",
              "      <td>1661.78</td>\n",
              "      <td>59391</td>\n",
              "      <td>0.791391</td>\n",
              "      <td>30.803538</td>\n",
              "      <td>POINT (36.84171 -1.31807)</td>\n",
              "    </tr>\n",
              "    <tr>\n",
              "      <th>3</th>\n",
              "      <td>-1.318066</td>\n",
              "      <td>36.841721</td>\n",
              "      <td>29.071</td>\n",
              "      <td>27.401</td>\n",
              "      <td>9.423</td>\n",
              "      <td>29.3</td>\n",
              "      <td>2024-02-06 16:28:30</td>\n",
              "      <td>1659.37</td>\n",
              "      <td>59311</td>\n",
              "      <td>0.778146</td>\n",
              "      <td>30.880401</td>\n",
              "      <td>POINT (36.84172 -1.31807)</td>\n",
              "    </tr>\n",
              "    <tr>\n",
              "      <th>4</th>\n",
              "      <td>-1.318058</td>\n",
              "      <td>36.841698</td>\n",
              "      <td>28.763</td>\n",
              "      <td>27.209</td>\n",
              "      <td>9.858</td>\n",
              "      <td>30.8</td>\n",
              "      <td>2024-02-06 16:28:50</td>\n",
              "      <td>1658.41</td>\n",
              "      <td>59331</td>\n",
              "      <td>0.781457</td>\n",
              "      <td>30.599543</td>\n",
              "      <td>POINT (36.84170 -1.31806)</td>\n",
              "    </tr>\n",
              "  </tbody>\n",
              "</table>\n",
              "</div>"
            ],
            "text/plain": [
              "   Latitude  Longitude  WMean_Temp  WMean_HeatInd  WMean_Dew  \\\n",
              "0 -1.318104  36.841907      28.785         26.901      8.616   \n",
              "1 -1.318073  36.841726      28.791         27.028      9.186   \n",
              "2 -1.318068  36.841712      28.890         27.511     10.358   \n",
              "3 -1.318066  36.841721      29.071         27.401      9.423   \n",
              "4 -1.318058  36.841698      28.763         27.209      9.858   \n",
              "\n",
              "   Relative Humidity      Actual_Datetime  Elevation  TimeSecs_y  Scaled_TS  \\\n",
              "0               28.3  2024-02-06 16:27:10    1653.12       59231   0.764901   \n",
              "1               29.4  2024-02-06 16:28:10    1656.49       59291   0.774834   \n",
              "2               31.5  2024-02-06 16:29:50    1661.78       59391   0.791391   \n",
              "3               29.3  2024-02-06 16:28:30    1659.37       59311   0.778146   \n",
              "4               30.8  2024-02-06 16:28:50    1658.41       59331   0.781457   \n",
              "\n",
              "    temp_crt                   geometry  \n",
              "0  30.483284  POINT (36.84191 -1.31810)  \n",
              "1  30.572814  POINT (36.84173 -1.31807)  \n",
              "2  30.803538  POINT (36.84171 -1.31807)  \n",
              "3  30.880401  POINT (36.84172 -1.31807)  \n",
              "4  30.599543  POINT (36.84170 -1.31806)  "
            ]
          },
          "execution_count": 345,
          "metadata": {},
          "output_type": "execute_result"
        }
      ],
      "source": [
        "Track.drop(columns=[ 'FORMATTED DATE_TIME', 'Temperature°C', 'HeatIndex°C', 'DewPoint°C','TimeSecs_x', 'DateTime','uID'], inplace=True)\n",
        "geo_track = gpd.GeoDataFrame(Track,\n",
        "    geometry = gpd.points_from_xy(Track['Longitude'], Track['Latitude']),\n",
        "    crs = 'EPSG:4326')\n",
        "geo_track.head()"
      ]
    },
    {
      "cell_type": "code",
      "execution_count": null,
      "id": "248ea652-9ef2-422f-844e-ca2eff0f43c2",
      "metadata": {
        "id": "248ea652-9ef2-422f-844e-ca2eff0f43c2"
      },
      "outputs": [],
      "source": [
        "geo_track.to_file(os.path.join(directory, '7XTRAMUKTEMPORAL.gpkg'), index=False, driver='GPKG')"
      ]
    }
  ],
  "metadata": {
    "kernelspec": {
      "display_name": "Python",
      "language": "python",
      "name": "python3"
    },
    "language_info": {
      "codemirror_mode": {
        "name": "ipython",
        "version": 3
      },
      "file_extension": ".py",
      "mimetype": "text/x-python",
      "name": "python",
      "nbconvert_exporter": "python",
      "pygments_lexer": "ipython3",
      "version": "3.8.10"
    },
    "colab": {
      "provenance": [],
      "include_colab_link": true
    }
  },
  "nbformat": 4,
  "nbformat_minor": 5
}