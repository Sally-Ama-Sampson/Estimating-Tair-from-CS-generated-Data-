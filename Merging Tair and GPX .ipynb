{
  "cells": [
    {
      "cell_type": "markdown",
      "metadata": {
        "id": "view-in-github",
        "colab_type": "text"
      },
      "source": [
        "<a href=\"https://colab.research.google.com/github/Sally-Ama-Sampson/Estimating-Tair-from-CS-generated-Data-/blob/main/Merging%20Tair%20and%20GPX%20.ipynb\" target=\"_parent\"><img src=\"https://colab.research.google.com/assets/colab-badge.svg\" alt=\"Open In Colab\"/></a>"
      ]
    },
    {
      "cell_type": "code",
      "execution_count": null,
      "id": "2edd35f7-53d4-4941-829d-dc6938147995",
      "metadata": {
        "tags": [],
        "id": "2edd35f7-53d4-4941-829d-dc6938147995"
      },
      "outputs": [],
      "source": [
        "import pandas as pd\n",
        "import csv\n",
        "import gpxpy\n",
        "import os\n",
        "import numpy as np"
      ]
    },
    {
      "cell_type": "code",
      "execution_count": null,
      "id": "d3993d32-1432-43f1-83c1-68716c50f9bd",
      "metadata": {
        "id": "d3993d32-1432-43f1-83c1-68716c50f9bd",
        "outputId": "19fcb9eb-d708-4ab1-a769-248ce5d748f3"
      },
      "outputs": [
        {
          "name": "stdout",
          "output_type": "stream",
          "text": [
            "Current Working Directory: /home/jovyan/Thesis /PREPROCESSING AT /Filtering and Matching/WARUKU\n"
          ]
        }
      ],
      "source": [
        "print(\"Current Working Directory:\", os.getcwd())"
      ]
    },
    {
      "cell_type": "code",
      "execution_count": null,
      "id": "d338fece-1e48-4124-82a0-e0f52b21417c",
      "metadata": {
        "id": "d338fece-1e48-4124-82a0-e0f52b21417c"
      },
      "outputs": [],
      "source": [
        "def gpx_to_csv(gpx_file_path, csv_folder_path):\n",
        "    if not os.path.exists(csv_folder_path):\n",
        "        os.makedirs(csv_folder_path)\n",
        "    gpx_files = [f for f in os.listdir(gpx_file_path) if f.endswith('.gpx')]\n",
        "\n",
        "    for gpx_file_name in gpx_files\n",
        "        gpx_file_full_path = os.path.join(gpx_file_path, gpx_file_name)\n",
        "        csv_file_name = os.path.splitext(gpx_file_name)[0] + \"WARGPX.csv\"\n",
        "        csv_file_full_path = os.path.join(csv_folder_path, csv_file_name)\n",
        "        with open(gpx_file_full_path, 'r') as gpx_file:\n",
        "            gpx = gpxpy.parse(gpx_file)\n",
        "\n",
        "            with open(csv_file_full_path, 'w', newline='') as csv_file:\n",
        "                csv_writer = csv.writer(csv_file)\n",
        "                csv_writer.writerow([\"Name\", \"Latitude\", \"Longitude\", \"Elevation\",\"DateTime\" ])\n",
        "\n",
        "                for track in gpx.tracks:\n",
        "                    for segment in track.segments:\n",
        "                        for point in segment.points:\n",
        "                            csv_writer.writerow([point.name, point.latitude, point.longitude, point.elevation, point.time])\n",
        "\n",
        "if __name__ == \"__main__\":\n",
        "    gpx_folder_path = \"/home/jovyan/Thesis /PREPROCESSING AT /Filtering and Matching/WARUKU/GPX_RAW\"\n",
        "    csv_folder_path = \"/home/jovyan/Thesis /PREPROCESSING AT /Filtering and Matching/WARUKU/GPX_CSV\"\n",
        "    gpx_to_csv(gpx_folder_path, csv_folder_path)\n"
      ]
    },
    {
      "cell_type": "code",
      "execution_count": null,
      "id": "9df22c33-bd11-4093-b628-2605a4c07283",
      "metadata": {
        "id": "9df22c33-bd11-4093-b628-2605a4c07283"
      },
      "outputs": [],
      "source": [
        "directory = \"/home/jovyan/Thesis /PREPROCESSING AT /Filtering and Matching/WARUKU/GPX_CSV\"\n",
        "output_dict = {}\n",
        "for csv_file_name in os.listdir(directory):\n",
        "    if csv_file_name.endswith(\".csv\"):\n",
        "        csv_file_path = os.path.join(directory, csv_file_name)\n",
        "        GPX_df = pd.read_csv(csv_file_path)\n",
        "        GPX_df['DateTime'] = pd.to_datetime(GPX_df['DateTime'])\n",
        "        GPX_df['Actual_Datetime'] = GPX_df['DateTime'] + pd.Timedelta(hours=3)\n",
        "        output_dict[csv_file_name] = GPX_df\n",
        "        output_dict"
      ]
    },
    {
      "cell_type": "code",
      "execution_count": null,
      "id": "d3502f26-1e51-419d-9b9d-a1f6c161a8c9",
      "metadata": {
        "id": "d3502f26-1e51-419d-9b9d-a1f6c161a8c9"
      },
      "outputs": [],
      "source": [
        "desired_date = pd.to_datetime('2024-02-08').date()\n",
        "filtered_date = {}\n",
        "for file_name, df in output_dict.items():\n",
        "    filtered_df = df[df['Actual_Datetime'].dt.date == desired_date]\n",
        "    filtered_date[file_name] = filtered_df\n",
        "    filtered_date['(1)WARGPX.csv']"
      ]
    },
    {
      "cell_type": "code",
      "execution_count": null,
      "id": "dfa8f788-0aa8-4469-90ce-b0ccde13e8b7",
      "metadata": {
        "id": "dfa8f788-0aa8-4469-90ce-b0ccde13e8b7"
      },
      "outputs": [],
      "source": [
        "# FILTERING TIME Keeping only FROM 15.10 TO 16.10\n",
        "def filtered_Time(df):\n",
        "    return df[\n",
        "        ((df['Actual_Datetime'].dt.hour == 15) & (df['Actual_Datetime'].dt.minute >= 10)) |\n",
        "        ((df['Actual_Datetime'].dt.hour == 16) & (df['Actual_Datetime'].dt.minute <= 50))\n",
        "    ]\n",
        "filtered_time = {}\n",
        "for file_name, df in filtered_date.items():\n",
        "    filtered_time_df = filtered_Time(df)\n",
        "    filtered_time[file_name] = filtered_time_df\n",
        "    filtered_time['(1)WARGPX.csv']"
      ]
    },
    {
      "cell_type": "code",
      "execution_count": null,
      "id": "99c8bb02-bcec-42e2-9d93-0ce959344b37",
      "metadata": {
        "collapsed": true,
        "id": "99c8bb02-bcec-42e2-9d93-0ce959344b37"
      },
      "outputs": [],
      "source": [
        "Filtered = {}\n",
        "\n",
        "for file_name, df in filtered_time.items():\n",
        "    df[\"uID\"] = range(len(df))\n",
        "    Filtered[file_name] = df"
      ]
    },
    {
      "cell_type": "code",
      "execution_count": null,
      "id": "1424b757-7084-455f-a60c-d70a340cde25",
      "metadata": {
        "collapsed": true,
        "id": "1424b757-7084-455f-a60c-d70a340cde25"
      },
      "outputs": [],
      "source": [
        "for file_name, df in Filtered.items():\n",
        "    df.drop(columns=['Name'], inplace=True)\n",
        "    Filtered[file_name] = df"
      ]
    },
    {
      "cell_type": "code",
      "execution_count": null,
      "id": "7a1e6cf1-8c68-4183-85c0-783b1d354b2d",
      "metadata": {
        "id": "7a1e6cf1-8c68-4183-85c0-783b1d354b2d"
      },
      "outputs": [],
      "source": [
        "for file_name, df in Filtered.items():\n",
        "    csv_file_path = os.path.join(output_directory, file_name.replace('.csv', '_filtered.csv'))\n",
        "    df.to_csv(csv_file_path, index=False)\n"
      ]
    },
    {
      "cell_type": "code",
      "execution_count": null,
      "id": "f9c9381b-fac6-4df6-8ab3-00962abd0b91",
      "metadata": {
        "id": "f9c9381b-fac6-4df6-8ab3-00962abd0b91"
      },
      "outputs": [],
      "source": [
        "##Filtering for KES"
      ]
    },
    {
      "cell_type": "code",
      "execution_count": null,
      "id": "13fbbdb2-294d-4bf7-961f-45abb80b3ee6",
      "metadata": {
        "id": "13fbbdb2-294d-4bf7-961f-45abb80b3ee6"
      },
      "outputs": [],
      "source": [
        "directory = '/home/jovyan/Thesis /PREPROCESSING AT /Filtering and Matching/WARUKU/KESTREL_RAW'\n",
        "KESdfs = {}\n",
        "for file_name in os.listdir(directory):\n",
        "    if file_name.endswith('.csv'):\n",
        "        file_path = os.path.join(directory, file_name)\n",
        "        df_name = os.path.splitext(file_name)[0]\n",
        "        KESdfs[df_name] = pd.read_csv(file_path)"
      ]
    },
    {
      "cell_type": "code",
      "execution_count": null,
      "id": "b7614538-ab57-4261-9270-44fcdef3307e",
      "metadata": {
        "id": "b7614538-ab57-4261-9270-44fcdef3307e"
      },
      "outputs": [],
      "source": [
        "for df_name, df in KESdfs.items():\n",
        "    KESdfs[df_name] = df.iloc[1:]\n",
        "    KESdfs['1_Feb_10_2024_2_56_40_PM']"
      ]
    },
    {
      "cell_type": "code",
      "execution_count": null,
      "id": "633047cc-a235-48dc-a0e0-abfe1ecd3c70",
      "metadata": {
        "id": "633047cc-a235-48dc-a0e0-abfe1ecd3c70"
      },
      "outputs": [],
      "source": [
        "for df_name, df in KESdfs.items():\n",
        "     KESdfs[df_name]['Actual_Datetime'] = pd.to_datetime(df['FORMATTED DATE_TIME'])\n",
        "     KESdfs['1_Feb_10_2024_2_56_40_PM'].head(5)"
      ]
    },
    {
      "cell_type": "code",
      "execution_count": null,
      "id": "e2873fab-095c-4558-ab0b-95f4098374d6",
      "metadata": {
        "id": "e2873fab-095c-4558-ab0b-95f4098374d6"
      },
      "outputs": [],
      "source": [
        "for df_name, df in KESdfs.items():\n",
        "    KESdfs[df_name]['Temperature'] = pd.to_numeric(df['Temperature'], errors='coerce')\n",
        "    KESdfs[df_name]['Heat Index'] = pd.to_numeric(df['Heat Index'], errors='coerce')\n",
        "    KESdfs[df_name]['Dew Point'] = pd.to_numeric(df['Dew Point'], errors='coerce')\n",
        "    KESdfs['1_Feb_10_2024_2_56_40_PM'].head(5)"
      ]
    },
    {
      "cell_type": "code",
      "execution_count": null,
      "id": "43fa0cc4-6813-45a9-8ef4-e487dfd65325",
      "metadata": {
        "collapsed": true,
        "id": "43fa0cc4-6813-45a9-8ef4-e487dfd65325"
      },
      "outputs": [],
      "source": [
        "for df_name, df in KESdfs.items():\n",
        "    KESdfs[df_name]['Temperature°C'] = ((df['Temperature'] - 32) * 5/9).round(2)\n",
        "    KESdfs[df_name]['HeatIndex°C'] = ((df['Heat Index'] - 32) * 5/9).round(2)\n",
        "    KESdfs[df_name]['DewPoint°C'] = ((df['Dew Point'] - 32) * 5/9).round(2)"
      ]
    },
    {
      "cell_type": "code",
      "execution_count": null,
      "id": "536e5785-8dd8-4aab-a755-7e01c1cc0b21",
      "metadata": {
        "id": "536e5785-8dd8-4aab-a755-7e01c1cc0b21"
      },
      "outputs": [],
      "source": [
        "desired_date = pd.to_datetime('2024/02/08').normalize()\n",
        "filt_date = {}\n",
        "for df_name, df in KESdfs.items():\n",
        "    filt_df = df.loc[df['Actual_Datetime'].dt.date == desired_date.date()]\n",
        "    filt_date[df_name] = filt_df\n",
        "    filt_date['1_Feb_10_2024_2_56_40_PM']"
      ]
    },
    {
      "cell_type": "code",
      "execution_count": null,
      "id": "8b49bc55-6b39-40af-8bbe-ae063f7159df",
      "metadata": {
        "id": "8b49bc55-6b39-40af-8bbe-ae063f7159df"
      },
      "outputs": [],
      "source": [
        "# FILTERING TIME Keeping  15.10 TO 16.10\n",
        "def filt_Time(df):\n",
        "    return df[\n",
        "        ((df['Actual_Datetime'].dt.hour == 15) & (df['Actual_Datetime'].dt.minute >= 10)) |\n",
        "        ((df['Actual_Datetime'].dt.hour == 16) & (df['Actual_Datetime'].dt.minute <= 50))\n",
        "    ]\n",
        "filt_time = {}\n",
        "for df_name, df in filt_date.items():\n",
        "    filt_time_df = filt_Time(df)\n",
        "    filt_time[df_name] = filt_time_df\n",
        "    filt_time['1_Feb_10_2024_2_56_40_PM']"
      ]
    },
    {
      "cell_type": "code",
      "execution_count": null,
      "id": "14f22758-0433-4896-a842-0bcefa82e021",
      "metadata": {
        "id": "14f22758-0433-4896-a842-0bcefa82e021"
      },
      "outputs": [],
      "source": [
        "for df_name, df in filt_time.items():\n",
        "    columns_to_drop = ['Notes', 'Data Type', 'Temperature', 'Heat Index', 'Dew Point',\n",
        "                       'Location coordinates', 'Location address', 'Location description',\n",
        "                       'Duration (H:M:S)', 'Start time', 'Record name']\n",
        "    df.drop(columns=columns_to_drop, inplace=True)\n",
        "    filt_time['1_Feb_10_2024_2_56_40_PM']"
      ]
    },
    {
      "cell_type": "code",
      "execution_count": null,
      "id": "c5b86edc-7cad-4f2c-aee6-d021d5b38017",
      "metadata": {
        "id": "c5b86edc-7cad-4f2c-aee6-d021d5b38017"
      },
      "outputs": [],
      "source": [
        "for file_name, df in filt_time.items():\n",
        "    csv_file_path = os.path.join(Output_path_KES, file_name.replace('_PM','WARTEMPFILT.csv'))\n",
        "    df.to_csv(csv_file_path, index=False)"
      ]
    },
    {
      "cell_type": "code",
      "execution_count": null,
      "id": "83691d1c-c0a0-44b5-9d0a-da73751c9798",
      "metadata": {
        "id": "83691d1c-c0a0-44b5-9d0a-da73751c9798"
      },
      "outputs": [],
      "source": [
        "## MERGING KESTREL TO GPX DATA"
      ]
    },
    {
      "cell_type": "code",
      "execution_count": null,
      "id": "87239e47-0222-463a-ac67-78cddee93942",
      "metadata": {
        "id": "87239e47-0222-463a-ac67-78cddee93942"
      },
      "outputs": [],
      "source": [
        "path1 = '/home/jovyan/Thesis /PREPROCESSING AT /Filtering and Matching/WARUKU/KES_FILT'\n",
        "name1 = '8WARTEMPFILT.csv'\n",
        "KERSTREL_df = pd.read_csv(os.path.join(path1,name1))\n",
        "\n",
        "path2 = '/home/jovyan/Thesis /PREPROCESSING AT /Filtering and Matching/WARUKU/GPX_FILTERED'\n",
        "name2 = '(8)WARGPX_filtered.csv'\n",
        "GPX_df = pd.read_csv(os.path.join(path2,name2))\n"
      ]
    },
    {
      "cell_type": "code",
      "execution_count": null,
      "id": "48900dc5-9fc5-4978-81b5-a3105e1e907c",
      "metadata": {
        "id": "48900dc5-9fc5-4978-81b5-a3105e1e907c"
      },
      "outputs": [],
      "source": [
        "KERSTREL_df['Actual_Datetime'] = pd.to_datetime(KERSTREL_df['Actual_Datetime'])\n",
        "GPX_df['Actual_Datetime'] = pd.to_datetime(GPX_df['Actual_Datetime'])\n",
        "KERSTREL_df"
      ]
    },
    {
      "cell_type": "code",
      "execution_count": null,
      "id": "d3e4f534-34b5-4ec9-ab34-50497932551b",
      "metadata": {
        "id": "d3e4f534-34b5-4ec9-ab34-50497932551b"
      },
      "outputs": [],
      "source": [
        "KERSTREL_df['Actual_Datetime'] = KERSTREL_df['Actual_Datetime'].dt.tz_localize(None)\n",
        "GPX_df['Actual_Datetime'] = GPX_df['Actual_Datetime'].dt.tz_localize(None)\n",
        "KERSTREL_df['TimeSecs'] = KERSTREL_df['Actual_Datetime'].dt.hour * 3600  + KERSTREL_df['Actual_Datetime'].dt.minute* 60  + KERSTREL_df['Actual_Datetime'].dt.second\n",
        "GPX_df['TimeSecs'] = GPX_df['Actual_Datetime'].dt.hour* 3600  + GPX_df['Actual_Datetime'].dt.minute* 60 + GPX_df['Actual_Datetime'].dt.second\n",
        "KERSTREL_df"
      ]
    },
    {
      "cell_type": "code",
      "execution_count": null,
      "id": "96af11ef-30b4-46d2-9e03-05ac09fd8517",
      "metadata": {
        "id": "96af11ef-30b4-46d2-9e03-05ac09fd8517"
      },
      "outputs": [],
      "source": [
        "KERSTREL_df = KERSTREL_df.sort_values('Actual_Datetime')\n",
        "GPX_df = GPX_df.sort_values('Actual_Datetime')s\n",
        "merged_df = pd.merge_asof(KERSTREL_df, GPX_df, on='Actual_Datetime', direction = 'nearest')"
      ]
    },
    {
      "cell_type": "code",
      "execution_count": null,
      "id": "f4ae8b5d-0a7a-4f5a-9661-d19451d928c7",
      "metadata": {
        "id": "f4ae8b5d-0a7a-4f5a-9661-d19451d928c7"
      },
      "outputs": [],
      "source": [
        "weights = []\n",
        "for index, row in merged_df.iterrows():\n",
        "    time_diff_seconds = np.abs(row['TimeSecs_y'] - row['TimeSecs_x'])\n",
        "    weight = 1 / time_diff_seconds\n",
        "    weights.append(weight)\n",
        "merged_df['weight'] = weights\n",
        "merged_df"
      ]
    },
    {
      "cell_type": "code",
      "execution_count": null,
      "id": "8c9ff384-e483-4872-b37e-e82ad12e92f5",
      "metadata": {
        "id": "8c9ff384-e483-4872-b37e-e82ad12e92f5"
      },
      "outputs": [],
      "source": [
        "def weighted_mean(group):\n",
        "    weighted_temp = np.average(group['Temperature°C'], weights=group['weight'])\n",
        "    weighted_H_ind = np.average(group['HeatIndex°C'], weights=group['weight'])\n",
        "    weighted_Dew = np.average(group['DewPoint°C'], weights=group['weight'])\n",
        "    other_attributes = {}\n",
        "    for column in group.columns:\n",
        "        if column not in ['Latitude', 'Longitude', 'Temperature°C','HeatIndex°C', 'DewPoint°C','weight']:\n",
        "            other_attributes[column] = group[column].iloc[0]\n",
        "    result = pd.Series({'WMean_Temp': weighted_temp,'WMean_HeatInd' : weighted_H_ind,'WMean_Dew' : weighted_Dew, **other_attributes})\n",
        "\n",
        "    return result\n",
        "grouped_df = merged_df.groupby(['Latitude', 'Longitude']).apply(weighted_mean).reset_index()\n",
        "grouped_df.drop(columns=[ 'DateTime', 'uID', 'TimeSecs_x', 'FORMATTED DATE_TIME'], inplace=True)\n",
        "grouped_df.sort_values(by = 'Actual_Datetime')"
      ]
    },
    {
      "cell_type": "code",
      "execution_count": null,
      "id": "b9068bc1-e658-4021-98f5-be91750205d7",
      "metadata": {
        "id": "b9068bc1-e658-4021-98f5-be91750205d7"
      },
      "outputs": [],
      "source": [
        "grouped_df.to_csv(os.path.join(directory, '8WARMERGEDFIN.csv'), index=False)"
      ]
    }
  ],
  "metadata": {
    "kernelspec": {
      "display_name": "Python",
      "language": "python",
      "name": "python3"
    },
    "language_info": {
      "codemirror_mode": {
        "name": "ipython",
        "version": 3
      },
      "file_extension": ".py",
      "mimetype": "text/x-python",
      "name": "python",
      "nbconvert_exporter": "python",
      "pygments_lexer": "ipython3",
      "version": "3.8.10"
    },
    "colab": {
      "provenance": [],
      "include_colab_link": true
    }
  },
  "nbformat": 4,
  "nbformat_minor": 5
}