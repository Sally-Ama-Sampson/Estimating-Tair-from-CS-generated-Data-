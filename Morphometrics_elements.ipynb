{
  "cells": [
    {
      "cell_type": "markdown",
      "metadata": {
        "id": "view-in-github",
        "colab_type": "text"
      },
      "source": [
        "<a href=\"https://colab.research.google.com/github/Sally-Ama-Sampson/Estimating-Tair-from-CS-generated-Data-/blob/main/Morphometrics_elements.ipynb\" target=\"_parent\"><img src=\"https://colab.research.google.com/assets/colab-badge.svg\" alt=\"Open In Colab\"/></a>"
      ]
    },
    {
      "cell_type": "code",
      "source": [
        "!pip install momepy\n",
        "!pip install osmnx"
      ],
      "metadata": {
        "collapsed": true,
        "id": "Fm6w9-M09rxl"
      },
      "execution_count": null,
      "outputs": []
    },
    {
      "cell_type": "code",
      "execution_count": null,
      "metadata": {
        "id": "0miXjgj_SWjN",
        "tags": []
      },
      "outputs": [],
      "source": [
        "import matplotlib.pyplot as plt\n",
        "import geopandas as gpd\n",
        "import pandas as pd\n",
        "import momepy as mm\n",
        "import osmnx as ox\n",
        "import numpy as np\n",
        "from shapely.geometry import box\n",
        "import utilsALL"
      ]
    },
    {
      "cell_type": "code",
      "execution_count": null,
      "metadata": {
        "id": "aMlbULJsRFL4"
      },
      "outputs": [],
      "source": [
        "gdf = gpd.read_file('ALLNAIR.shp')\n",
        "BNEWAOI= gdf.to_crs(32737)\n",
        "BNEWAOI.crs"
      ]
    },
    {
      "cell_type": "code",
      "execution_count": null,
      "metadata": {
        "id": "EXeBC5Wa245d"
      },
      "outputs": [],
      "source": [
        "BNEWAOI.drop(columns=['TARGET_FID', 'full_plus_', 'confidence', 'Shape_Area' , 'Shape_Leng' , 'Join_Count'], inplace=True)"
      ]
    },
    {
      "cell_type": "markdown",
      "metadata": {
        "id": "UBp7T_8aRFL7",
        "tags": []
      },
      "source": [
        "## Preprocessing Buildings"
      ]
    },
    {
      "cell_type": "code",
      "execution_count": null,
      "metadata": {
        "id": "lFqTbPHWRFL8"
      },
      "outputs": [],
      "source": [
        "BNEWAOI.geometry = BNEWAOI.buffer(0)\n",
        "BNEWAOI= BNEWAOI[~BNEWAOI.geometry.isna()]"
      ]
    },
    {
      "cell_type": "code",
      "execution_count": null,
      "metadata": {
        "id": "7Enyvk3z245h"
      },
      "outputs": [],
      "source": [
        "BNEWAOI.geom_type.value_counts()"
      ]
    },
    {
      "cell_type": "code",
      "execution_count": null,
      "metadata": {
        "id": "gfkwGI2vRFL9"
      },
      "outputs": [],
      "source": [
        "BNEWAOI = BNEWAOI.reset_index(drop=True).explode(index_parts=True).reset_index(drop=True)\n",
        "BNEWAOI.geom_type.value_counts()"
      ]
    },
    {
      "cell_type": "code",
      "execution_count": null,
      "metadata": {
        "id": "Qv5WPIKP245h"
      },
      "outputs": [],
      "source": [
        "BNEWAOI.columns"
      ]
    },
    {
      "cell_type": "code",
      "execution_count": null,
      "metadata": {
        "id": "W-YRam5v245i",
        "outputId": "ead496d7-d845-47fc-d356-95b637579943"
      },
      "outputs": [
        {
          "name": "stdout",
          "output_type": "stream",
          "text": [
            "All rows have unique indices.\n"
          ]
        }
      ],
      "source": [
        "duplicate_index = BNEWAOI.index.duplicated().any()\n",
        "if duplicate_index:\n",
        "    print(\"Some rows have the same index.\")\n",
        "else:\n",
        "    print(\"All rows have unique indices.\")"
      ]
    },
    {
      "cell_type": "code",
      "execution_count": null,
      "metadata": {
        "id": "OmvLfXW-245i"
      },
      "outputs": [],
      "source": [
        "BNEWAOI = BNEWAOI[BNEWAOI.area > 5]"
      ]
    },
    {
      "cell_type": "code",
      "execution_count": null,
      "metadata": {
        "id": "xVlxQW5T245j",
        "outputId": "64cbe1a1-e83d-44d0-9a84-e47250c7e6db"
      },
      "outputs": [
        {
          "name": "stdout",
          "output_type": "stream",
          "text": [
            "Number of missing height values: 22460\n"
          ]
        }
      ],
      "source": [
        "missing_height_count = BNEWAOI['HeightPROP'].isin([0, np.nan]).sum()\n",
        "print(f\"Number of missing height values: {missing_height_count}\")"
      ]
    },
    {
      "cell_type": "code",
      "execution_count": null,
      "metadata": {
        "id": "wYEH3a3t245j"
      },
      "outputs": [],
      "source": [
        "rows_with_missing_height = BNEWAOI[BNEWAOI['HeightPROP'].isin([0, np.nan])]\n",
        "print(\"\\nRows with missing height values:\")\n",
        "print(rows_with_missing_height)"
      ]
    },
    {
      "cell_type": "code",
      "execution_count": null,
      "metadata": {
        "id": "mQ3qzU-B245j"
      },
      "outputs": [],
      "source": [
        "mean_height = BNEWAOI['HeightPROP'].mean()\n",
        "BNEWAOI.loc[BNEWAOI['HeightPROP'] == 0, 'HeightPROP'] = mean_height"
      ]
    },
    {
      "cell_type": "code",
      "execution_count": null,
      "metadata": {
        "id": "0LuaKqKY245k",
        "outputId": "f128d580-9f4c-4ae0-e5f3-f1b2bba68388"
      },
      "outputs": [
        {
          "name": "stdout",
          "output_type": "stream",
          "text": [
            "No null values in the 'height' column.\n"
          ]
        }
      ],
      "source": [
        "empty_height = BNEWAOI['HeightPROP'].isin([0, np.nan]).sum()\n",
        "if empty_height:\n",
        "    print(\"Null values still exist in the 'height' column.\")\n",
        "else:\n",
        "    print(\"No null values in the 'height' column.\")"
      ]
    },
    {
      "cell_type": "code",
      "execution_count": null,
      "metadata": {
        "id": "-pXvw1XC245k"
      },
      "outputs": [],
      "source": [
        "BNEWAOI[\"uID\"] = range(len(BNEWAOI))\n",
        "BNEWAOI['Height'] = BNEWAOI['HeightPROP'].round(2)\n",
        "BNEWAOI.drop(columns=['HeightPROP'], inplace=True)\n",
        "BNEWAOI.head()"
      ]
    },
    {
      "cell_type": "code",
      "execution_count": null,
      "metadata": {
        "id": "D2MTRw2VRFL-",
        "scrolled": true
      },
      "outputs": [],
      "source": [
        "BNEWAOI.to_parquet('CleanBlgALL.pq')"
      ]
    },
    {
      "cell_type": "markdown",
      "metadata": {
        "id": "TDeEhyCsRFL-"
      },
      "source": [
        "## Generate tessellation"
      ]
    },
    {
      "cell_type": "code",
      "execution_count": null,
      "metadata": {
        "id": "2eUeDKyj245l"
      },
      "outputs": [],
      "source": [
        "Building = BNEWAOI"
      ]
    },
    {
      "cell_type": "code",
      "execution_count": null,
      "metadata": {
        "id": "qDlkGt-w245l"
      },
      "outputs": [],
      "source": [
        "checkVBuilding = mm.CheckTessellationInput( Building, shrink = 0.6)\n",
        "checkV3 = mm.CheckTessellationInput(BNEWAOI_Tessinput, shrink = 0.6)"
      ]
    },
    {
      "cell_type": "code",
      "execution_count": null,
      "metadata": {
        "id": "ExaTnhuMRFL-"
      },
      "outputs": [],
      "source": [
        "BUILD = Building.drop(checkVBuilding.overlap.index.union(checkVBuilding.split.index))"
      ]
    },
    {
      "cell_type": "code",
      "execution_count": null,
      "metadata": {
        "id": "HFvmOAzu245s",
        "outputId": "cb044fdd-4cc8-4c07-f94d-9bea4982fb66"
      },
      "outputs": [
        {
          "name": "stdout",
          "output_type": "stream",
          "text": [
            "UIDs of MultiPolygons: []\n"
          ]
        }
      ],
      "source": [
        "from shapely.geometry import MultiPolygon\n",
        "multi_polygon_uids = []\n",
        "for index, row in BUILD.iterrows():\n",
        "    if isinstance(row.geometry, MultiPolygon):\n",
        "        multi_polygon_uids.append(row['uID'])\n",
        "print(\"UIDs of MultiPolygons:\", multi_polygon_uids)"
      ]
    },
    {
      "cell_type": "code",
      "execution_count": null,
      "metadata": {
        "id": "FyPYBZS4245s"
      },
      "outputs": [],
      "source": [
        "BUILD[\"uID\"] = range(len(BUILD))\n",
        "BUILD.head()"
      ]
    },
    {
      "cell_type": "code",
      "execution_count": null,
      "metadata": {
        "id": "4TEYhFYHRFL-"
      },
      "outputs": [],
      "source": [
        "limit = mm.buffered_limit(BUILD, 100)\n",
        "%time TessALL = mm.Tessellation(BUILD, \"uID\", limit, segment = 0.7 , shrink = 0.6).tessellation"
      ]
    },
    {
      "cell_type": "code",
      "execution_count": null,
      "metadata": {
        "id": "2OvYrPki245u"
      },
      "outputs": [],
      "source": [
        "BUILDS.to_parquet('CleanBlgNAOI.pq')\n",
        "BUILDS.to_file('CleanBlgNAOI.shp')\n",
        "TessALL.to_file('TessALL.shp')\n",
        "TessALL.to_parquet('TessALL.pq')"
      ]
    }
  ],
  "metadata": {
    "colab": {
      "provenance": [],
      "include_colab_link": true
    },
    "kernelspec": {
      "display_name": "Python",
      "language": "python",
      "name": "python3"
    },
    "language_info": {
      "codemirror_mode": {
        "name": "ipython",
        "version": 3
      },
      "file_extension": ".py",
      "mimetype": "text/x-python",
      "name": "python",
      "nbconvert_exporter": "python",
      "pygments_lexer": "ipython3",
      "version": "3.8.10"
    }
  },
  "nbformat": 4,
  "nbformat_minor": 0
}